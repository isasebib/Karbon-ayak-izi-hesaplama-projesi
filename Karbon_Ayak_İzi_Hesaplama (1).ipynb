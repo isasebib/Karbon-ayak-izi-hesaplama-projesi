{
  "nbformat": 4,
  "nbformat_minor": 0,
  "metadata": {
    "colab": {
      "provenance": []
    },
    "kernelspec": {
      "name": "python3",
      "display_name": "Python 3"
    },
    "language_info": {
      "name": "python"
    }
  },
  "cells": [
    {
      "cell_type": "code",
      "execution_count": null,
      "metadata": {
        "id": "q9WM5TBcO0i3"
      },
      "outputs": [],
      "source": [
        "import matplotlib.pyplot as plt\n",
        "import numpy as np\n",
        "\n",
        "dana_eti = float(input(\"Aylık dana eti tüketimi (kg): \"))\n",
        "kuzu_eti = float(input(\"Aylık kuzu eti tüketimi (kg): \"))\n",
        "tavuk = float(input(\"Aylık tavuk tüketimi (kg): \"))\n",
        "sebze = float(input(\"Aylık sebze tüketimi (kg): \"))\n",
        "meyve = float(input(\"Aylık meyve tüketimi (kg): \"))\n",
        "ucus = float(input(\"Yılda alınan uçuş sayısı: \"))\n",
        "ucus_suresi = float(input(\"uçuşlarınızın ortalama kaç saat sürüyor? \"))\n",
        "benzin = float(input(\"Aylık benzin tüketimi(litre): \"))\n",
        "dizel = float(input(\"Aylık dizel tüketiminiz(litre)\"))\n",
        "lpg = float(input(\"Aylık lpg tüketiminiz(litre)\"))\n",
        "su = float(input(\"Aylık su kullanım miktarınız nedir? (litre)\"))\n",
        "mercimek = float(input(\"Aylık mercimek tüketiminiz ne kadardır (kg):\"))\n",
        "pirinc = float(input(\"Aylık pirinç kullanımınız ne kadardır (kg):\"))\n",
        "fistik_ezmesi = float(input(\"Aylık fıstık ezmesi tüketiminiz ne kadardır (kg):\"))\n",
        "peynir = float(input(\"Aylık peynir tüketiminiz (kg): \"))\n",
        "tv = float(input(\"Günde kaç saat televizyon izliyorsunuz? \"))\n",
        "sut = float(input(\"Aylık süt tüketiminiz (litre): \"))\n",
        "kahve = float(input(\"Günlük kahve tüketiminiz (kg): \"))\n",
        "elektrik = float(input(\"Aylık elektrik tüketimi (kW): \"))\n",
        "cips = float(input(\"Aylık cips tüketimi(kg): \"))\n",
        "bulasik = float(input(\"Haftalık bulaşık makinesi kullanımı: \"))\n",
        "camasir = float(input(\"Haftalık çamaşır makinesi kullanımı: \"))\n",
        "tren = float(input(\"Yılda kaç kez trene biniyorsunuz? \"))\n",
        "\n",
        "dana_eti_kai = dana_eti*99.48*12\n",
        "kuzu_eti_kai = kuzu_eti*58.4*12\n",
        "tavuk_kai = tavuk*18.2*12\n",
        "sebze_kai = sebze*2*12\n",
        "meyve_kai = meyve*1.1*12\n",
        "ucus_kai= ucus*ucus_suresi*90\n",
        "benzin_kai= benzin*2.3*12\n",
        "dizel_kai = dizel*2.7*12\n",
        "lpg_kai = lpg*1.5*12\n",
        "su_kai = su*0.3*12\n",
        "mercimek_kai = mercimek*0.9*12\n",
        "pirinc_kai = pirinc*4.5*12\n",
        "fistik_ezmesi_kai = fistik_ezmesi*2.88*12\n",
        "peynir_kai = peynir*23.9*12\n",
        "tv_kai= tv*0.088*365\n",
        "sut_kai = sut*1.4*12\n",
        "kahve_kai = kahve*2.853*365\n",
        "elektrik_kai = elektrik*0.478*12\n",
        "cips_kai = cips*2.8*12\n",
        "bulasik_kai = bulasik*52\n",
        "camasir_kai = camasir*0.49*52\n",
        "tren_kai = tren*360\n",
        "\n",
        "sonuclar = [dana_eti_kai,kuzu_eti_kai,tavuk_kai,sebze_kai,meyve_kai,ucus_kai,benzin_kai,dizel_kai,lpg_kai,su_kai,mercimek_kai,pirinc_kai,\n",
        "            fistik_ezmesi_kai,peynir_kai,tv_kai,sut_kai,kahve_kai,elektrik_kai,cips_kai,bulasik_kai,camasir_kai,tren_kai]\n",
        "print(sonuclar)\n",
        "kategoriler = [\"Dana\",\"Kuzu\",\"Tavuk\",\"Sebze\",\"Meyve\", \"Uçuş\", \"Benzin\",\"Dizel\",\n",
        "                   \"LPG\", \"Su\", \"Mercimek\", \"Pirinç\", \"F.Ezmesi\", \"Peynir\",\"Televizyon\",\"Süt\",\"Kahve\",\"Elektrik\",\"Cips\",\"Bulaşık\",\"Çamaşır\",\"Tren\"]\n",
        "\n",
        "plt.bar(kategoriler, sonuclar)\n",
        "plt.xlabel(\"Tüketim Kategorisi\")\n",
        "plt.ylabel(\"Yıllık CO2 Eşdeğeri (gram)\")\n",
        "plt.title(\"Karbon Ayak İzi\")\n",
        "plt.rcParams['font.size'] = 5\n",
        "plt.show()\n",
        "\n",
        "\n",
        "\n",
        "\n",
        "\n",
        "\n",
        "\n",
        "\n"
      ]
    },
    {
      "cell_type": "code",
      "source": [],
      "metadata": {
        "id": "uVkQ_vwzLo74"
      },
      "execution_count": 60,
      "outputs": []
    },
    {
      "cell_type": "code",
      "source": [],
      "metadata": {
        "id": "R2ZHrwsdPBcI"
      },
      "execution_count": 25,
      "outputs": []
    },
    {
      "cell_type": "code",
      "source": [],
      "metadata": {
        "id": "GPTE0uH-KTSQ"
      },
      "execution_count": 60,
      "outputs": []
    },
    {
      "cell_type": "code",
      "source": [],
      "metadata": {
        "id": "QcKMg3mnlYgW"
      },
      "execution_count": null,
      "outputs": []
    }
  ]
}